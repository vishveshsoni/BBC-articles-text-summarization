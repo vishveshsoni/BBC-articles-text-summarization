{
  "nbformat": 4,
  "nbformat_minor": 0,
  "metadata": {
    "colab": {
      "name": "a4_abstractive.ipynb",
      "provenance": [],
      "collapsed_sections": []
    },
    "kernelspec": {
      "name": "python3",
      "display_name": "Python 3"
    },
    "accelerator": "GPU"
  },
  "cells": [
    {
      "cell_type": "markdown",
      "metadata": {
        "id": "lkRjihFyYkAP"
      },
      "source": [
        "Refrences:\n",
        "\n",
        "[1] The implementation of the LSTM encoder-decoder with attention layer is inspired from the implementation by Arvin pal, can be found here https://www.analyticsvidhya.com/blog/2019/06/comprehensive-guide-text-summarization-using-deep-learning-python/\n",
        "\n",
        "[2] Cs224d.stanford.edu, 2020. [Online]. Available: https://cs224d.stanford.edu/reports/lucilley.pdf."
      ]
    },
    {
      "cell_type": "code",
      "metadata": {
        "colab": {
          "base_uri": "https://localhost:8080/"
        },
        "id": "akc8z3x6yl-A",
        "outputId": "08ddff5f-6d8a-42d7-ec8b-f199df4af9ca"
      },
      "source": [
        "import numpy as np\n",
        "import pandas as pd \n",
        "import re\n",
        "from tensorflow import keras\n",
        "from bs4 import BeautifulSoup\n",
        "from keras.preprocessing.text import Tokenizer \n",
        "from keras.preprocessing.sequence import pad_sequences\n",
        "from nltk.corpus import stopwords\n",
        "from tensorflow.keras.layers import Input, LSTM, Embedding, Dense, Concatenate, TimeDistributed\n",
        "from tensorflow.keras.models import Model\n",
        "from tensorflow.keras.callbacks import EarlyStopping\n",
        "import warnings\n",
        "warnings.filterwarnings(\"ignore\")\n",
        "import nltk\n",
        "nltk.download('stopwords')\n",
        "from keras.preprocessing.text import Tokenizer \n",
        "from keras.preprocessing.sequence import pad_sequences\n",
        "from sklearn.model_selection import train_test_split\n",
        "from attention import AttentionLayer\n",
        "from keras.utils.vis_utils import plot_model"
      ],
      "execution_count": 1,
      "outputs": [
        {
          "output_type": "stream",
          "text": [
            "[nltk_data] Downloading package stopwords to /root/nltk_data...\n",
            "[nltk_data]   Package stopwords is already up-to-date!\n"
          ],
          "name": "stdout"
        }
      ]
    },
    {
      "cell_type": "code",
      "metadata": {
        "colab": {
          "base_uri": "https://localhost:8080/",
          "height": 754
        },
        "id": "byTz15v5ys_q",
        "outputId": "f03faf17-32a1-4218-ee80-30259076332f"
      },
      "source": [
        "data = pd.read_csv(\"train.csv\",encoding='latin1')\n",
        "data = data.dropna(how='all', axis=1)\n",
        "data = data[~data['Article'].isnull()]\n",
        "data = data.reset_index(drop=True)\n",
        "data"
      ],
      "execution_count": 36,
      "outputs": [
        {
          "output_type": "execute_result",
          "data": {
            "text/html": [
              "<div>\n",
              "<style scoped>\n",
              "    .dataframe tbody tr th:only-of-type {\n",
              "        vertical-align: middle;\n",
              "    }\n",
              "\n",
              "    .dataframe tbody tr th {\n",
              "        vertical-align: top;\n",
              "    }\n",
              "\n",
              "    .dataframe thead th {\n",
              "        text-align: right;\n",
              "    }\n",
              "</style>\n",
              "<table border=\"1\" class=\"dataframe\">\n",
              "  <thead>\n",
              "    <tr style=\"text-align: right;\">\n",
              "      <th></th>\n",
              "      <th>Unnamed: 0</th>\n",
              "      <th>Article</th>\n",
              "      <th>Summary</th>\n",
              "    </tr>\n",
              "  </thead>\n",
              "  <tbody>\n",
              "    <tr>\n",
              "      <th>0</th>\n",
              "      <td>1364</td>\n",
              "      <td>Kelly Holmes will start 2005 with a series of races in Britain.Holmes will make her first track appearance on home soil since winning double Olympic gold in January's Norwich Union International i...</td>\n",
              "      <td>Holmes will make her first track appearance on home soil since winning double Olympic gold in January's Norwich Union International in Glasgow.The Glasgow meeting will see Holmes compete over 1500...</td>\n",
              "    </tr>\n",
              "    <tr>\n",
              "      <th>1</th>\n",
              "      <td>383</td>\n",
              "      <td>Next has said its annual profit will be ÃÂ£5m lower than previously expected because its end-of-year clearance sale has proved disappointing.\"Clearance rates in our end-of-season sale have been b...</td>\n",
              "      <td>Next chief executive Simon Wolfson admitted that festive sales were \"below where we would expect a normal Christmas to be\", but said sales should still top analyst expectations.Overall sales acros...</td>\n",
              "    </tr>\n",
              "    <tr>\n",
              "      <th>2</th>\n",
              "      <td>166</td>\n",
              "      <td>Shares in Solidere, the Lebanese company founded by assassinated former prime minister Rafik Hariri, fell 15% in renewed trading in Beirut.The real estate firm, which dominates Lebanon's stock exc...</td>\n",
              "      <td>Solidere, in which Mr Hariri was a major shareholder, was the major drag on the index.Shares in Solidere, the Lebanese company founded by assassinated former prime minister Rafik Hariri, fell 15% ...</td>\n",
              "    </tr>\n",
              "    <tr>\n",
              "      <th>3</th>\n",
              "      <td>1506</td>\n",
              "      <td>Germany coach Jurgen Klinsmann has warned goalkeeper Jens Lehmann he may have to quit Arsenal to keep his World Cup dreams alive.Lehmann is understudy to Oliver Kahn in the German squad, but has l...</td>\n",
              "      <td>Klinsmann added: \"If he is not playing regularly he cannot be Germany's number one keeper, or even number two keeper.Germany coach Jurgen Klinsmann has warned goalkeeper Jens Lehmann he may have t...</td>\n",
              "    </tr>\n",
              "    <tr>\n",
              "      <th>4</th>\n",
              "      <td>1973</td>\n",
              "      <td>Fast web access is encouraging more people to express themselves online, research suggests.A quarter of broadband users in Britain regularly upload content and have personal sites, according to a ...</td>\n",
              "      <td>More than five million households in the UK have broadband and that number is growing fast.The Demos report looked at the impact of broadband on people's net habits.More significantly, argues the ...</td>\n",
              "    </tr>\n",
              "    <tr>\n",
              "      <th>...</th>\n",
              "      <td>...</td>\n",
              "      <td>...</td>\n",
              "      <td>...</td>\n",
              "    </tr>\n",
              "    <tr>\n",
              "      <th>2130</th>\n",
              "      <td>1369</td>\n",
              "      <td>Last April, Kelly Holmes spoke to the BBC Sport website about her loneliness, her fight to stay fit and her decision not to contest both the 800m and 1500m at the Olympics.It just goes to show eve...</td>\n",
              "      <td>With so much time spent in the spotlight, Holmes has increasingly dropped hints that her ambition on the track has begun to wilt.Four months later, Holmes stormed to double Olympic gold and has si...</td>\n",
              "    </tr>\n",
              "    <tr>\n",
              "      <th>2131</th>\n",
              "      <td>271</td>\n",
              "      <td>The Brazilian stock market has risen to a record high as investors display growing confidence in the durability of the country's economic recovery.The main Bovespa index on the Sao Paolo Stock Exc...</td>\n",
              "      <td>Investors have praised his handling of the economy as foreign investment has risen, unemployment has fallen and inflation has been brought under control.The Brazilian stock market has risen to a r...</td>\n",
              "    </tr>\n",
              "    <tr>\n",
              "      <th>2132</th>\n",
              "      <td>1248</td>\n",
              "      <td>He called it his \"masochism strategy\" in the run-up to the Iraq war and now Tony Blair has signed up for another dose of pain.The idea is simple - the prime minister goes head to head with an ofte...</td>\n",
              "      <td>Mr Blair used the tactic before the Iraq war to try to show he really was engaging with public concerns and you can expect to see it much more in the run-up to the election.I  was  prime minister ...</td>\n",
              "    </tr>\n",
              "    <tr>\n",
              "      <th>2133</th>\n",
              "      <td>1505</td>\n",
              "      <td>Real Madrid are closing in on a ÃÂ£2m deal for Everton's Thomas Gravesen after the Dane's agent travelled to Spain to hold talks about a move.John Sivabaek told BBC Sport: \"I'm here to listen to ...</td>\n",
              "      <td>Real Madrid are closing in on a ÃÂ£2m deal for Everton's Thomas Gravesen after the Dane's agent travelled to Spain to hold talks about a move.The 28-year-old's contract expires in the summer, but...</td>\n",
              "    </tr>\n",
              "    <tr>\n",
              "      <th>2134</th>\n",
              "      <td>2107</td>\n",
              "      <td>Users of Apple's music jukebox iTunes need to update the software to avoid a potential security threat.Hackers can build malicious playlist files which could crash the program and let them seize c...</td>\n",
              "      <td>Security firm iDefence, which notified users of the problem, recommended that users upgrade to iTunes version 4.7.1.The problem affects all users of iTunes - Windows and Mac OS - running versions ...</td>\n",
              "    </tr>\n",
              "  </tbody>\n",
              "</table>\n",
              "<p>2135 rows × 3 columns</p>\n",
              "</div>"
            ],
            "text/plain": [
              "      Unnamed: 0  ...                                                                                                                                                                                                  Summary\n",
              "0           1364  ...  Holmes will make her first track appearance on home soil since winning double Olympic gold in January's Norwich Union International in Glasgow.The Glasgow meeting will see Holmes compete over 1500...\n",
              "1            383  ...  Next chief executive Simon Wolfson admitted that festive sales were \"below where we would expect a normal Christmas to be\", but said sales should still top analyst expectations.Overall sales acros...\n",
              "2            166  ...  Solidere, in which Mr Hariri was a major shareholder, was the major drag on the index.Shares in Solidere, the Lebanese company founded by assassinated former prime minister Rafik Hariri, fell 15% ...\n",
              "3           1506  ...  Klinsmann added: \"If he is not playing regularly he cannot be Germany's number one keeper, or even number two keeper.Germany coach Jurgen Klinsmann has warned goalkeeper Jens Lehmann he may have t...\n",
              "4           1973  ...  More than five million households in the UK have broadband and that number is growing fast.The Demos report looked at the impact of broadband on people's net habits.More significantly, argues the ...\n",
              "...          ...  ...                                                                                                                                                                                                      ...\n",
              "2130        1369  ...  With so much time spent in the spotlight, Holmes has increasingly dropped hints that her ambition on the track has begun to wilt.Four months later, Holmes stormed to double Olympic gold and has si...\n",
              "2131         271  ...  Investors have praised his handling of the economy as foreign investment has risen, unemployment has fallen and inflation has been brought under control.The Brazilian stock market has risen to a r...\n",
              "2132        1248  ...  Mr Blair used the tactic before the Iraq war to try to show he really was engaging with public concerns and you can expect to see it much more in the run-up to the election.I  was  prime minister ...\n",
              "2133        1505  ...  Real Madrid are closing in on a ÃÂ£2m deal for Everton's Thomas Gravesen after the Dane's agent travelled to Spain to hold talks about a move.The 28-year-old's contract expires in the summer, but...\n",
              "2134        2107  ...  Security firm iDefence, which notified users of the problem, recommended that users upgrade to iTunes version 4.7.1.The problem affects all users of iTunes - Windows and Mac OS - running versions ...\n",
              "\n",
              "[2135 rows x 3 columns]"
            ]
          },
          "metadata": {
            "tags": []
          },
          "execution_count": 36
        }
      ]
    },
    {
      "cell_type": "code",
      "metadata": {
        "id": "e_Bz60Rty3Li"
      },
      "source": [
        "contraction_mapping = {\"ain't\": \"is not\", \"aren't\": \"are not\",\"can't\": \"cannot\", \"'cause\": \"because\", \"could've\": \"could have\", \"couldn't\": \"could not\",\n",
        "                           \"didn't\": \"did not\",  \"doesn't\": \"does not\", \"don't\": \"do not\", \"hadn't\": \"had not\", \"hasn't\": \"has not\", \"haven't\": \"have not\",\n",
        "                           \"he'd\": \"he would\",\"he'll\": \"he will\", \"he's\": \"he is\", \"how'd\": \"how did\", \"how'd'y\": \"how do you\", \"how'll\": \"how will\", \"how's\": \"how is\",\n",
        "                           \"I'd\": \"I would\", \"I'd've\": \"I would have\", \"I'll\": \"I will\", \"I'll've\": \"I will have\",\"I'm\": \"I am\", \"I've\": \"I have\", \"i'd\": \"i would\",\n",
        "                           \"i'd've\": \"i would have\", \"i'll\": \"i will\",  \"i'll've\": \"i will have\",\"i'm\": \"i am\", \"i've\": \"i have\", \"isn't\": \"is not\", \"it'd\": \"it would\",\n",
        "                           \"it'd've\": \"it would have\", \"it'll\": \"it will\", \"it'll've\": \"it will have\",\"it's\": \"it is\", \"let's\": \"let us\", \"ma'am\": \"madam\",\n",
        "                           \"mayn't\": \"may not\", \"might've\": \"might have\",\"mightn't\": \"might not\",\"mightn't've\": \"might not have\", \"must've\": \"must have\",\n",
        "                           \"mustn't\": \"must not\", \"mustn't've\": \"must not have\", \"needn't\": \"need not\", \"needn't've\": \"need not have\",\"o'clock\": \"of the clock\",\n",
        "                           \"oughtn't\": \"ought not\", \"oughtn't've\": \"ought not have\", \"shan't\": \"shall not\", \"sha'n't\": \"shall not\", \"shan't've\": \"shall not have\",\n",
        "                           \"she'd\": \"she would\", \"she'd've\": \"she would have\", \"she'll\": \"she will\", \"she'll've\": \"she will have\", \"she's\": \"she is\",\n",
        "                           \"should've\": \"should have\", \"shouldn't\": \"should not\", \"shouldn't've\": \"should not have\", \"so've\": \"so have\",\"so's\": \"so as\",\n",
        "                           \"this's\": \"this is\",\"that'd\": \"that would\", \"that'd've\": \"that would have\", \"that's\": \"that is\", \"there'd\": \"there would\",\n",
        "                           \"there'd've\": \"there would have\", \"there's\": \"there is\", \"here's\": \"here is\",\"they'd\": \"they would\", \"they'd've\": \"they would have\",\n",
        "                           \"they'll\": \"they will\", \"they'll've\": \"they will have\", \"they're\": \"they are\", \"they've\": \"they have\", \"to've\": \"to have\",\n",
        "                           \"wasn't\": \"was not\", \"we'd\": \"we would\", \"we'd've\": \"we would have\", \"we'll\": \"we will\", \"we'll've\": \"we will have\", \"we're\": \"we are\",\n",
        "                           \"we've\": \"we have\", \"weren't\": \"were not\", \"what'll\": \"what will\", \"what'll've\": \"what will have\", \"what're\": \"what are\",\n",
        "                           \"what's\": \"what is\", \"what've\": \"what have\", \"when's\": \"when is\", \"when've\": \"when have\", \"where'd\": \"where did\", \"where's\": \"where is\",\n",
        "                           \"where've\": \"where have\", \"who'll\": \"who will\", \"who'll've\": \"who will have\", \"who's\": \"who is\", \"who've\": \"who have\",\n",
        "                           \"why's\": \"why is\", \"why've\": \"why have\", \"will've\": \"will have\", \"won't\": \"will not\", \"won't've\": \"will not have\",\n",
        "                           \"would've\": \"would have\", \"wouldn't\": \"would not\", \"wouldn't've\": \"would not have\", \"y'all\": \"you all\",\n",
        "                           \"y'all'd\": \"you all would\",\"y'all'd've\": \"you all would have\",\"y'all're\": \"you all are\",\"y'all've\": \"you all have\",\n",
        "                           \"you'd\": \"you would\", \"you'd've\": \"you would have\", \"you'll\": \"you will\", \"you'll've\": \"you will have\",\n",
        "                           \"you're\": \"you are\", \"you've\": \"you have\"}"
      ],
      "execution_count": 2,
      "outputs": []
    },
    {
      "cell_type": "code",
      "metadata": {
        "id": "3sE2Py44y7fD"
      },
      "source": [
        "stop_words = set(stopwords.words('english')) \n",
        "\n",
        "def text_cleaner(text,num):\n",
        "    newString = text.lower()\n",
        "    newString = BeautifulSoup(newString, \"lxml\").text\n",
        "    newString = re.sub(r'\\([^)]*\\)', '', newString)\n",
        "    newString = re.sub('\"','', newString)\n",
        "    newString = ' '.join([contraction_mapping[t] if t in contraction_mapping else t for t in newString.split(\" \")])    \n",
        "    newString = re.sub(r\"'s\\b\",\"\",newString)\n",
        "    newString = re.sub(\"[^a-zA-Z]\", \" \", newString) \n",
        "    newString = re.sub('[m]{2,}', 'mm', newString)\n",
        "    if(num==0):\n",
        "        tokens = [w for w in newString.split() if not w in stop_words]\n",
        "    else:\n",
        "        tokens=newString.split()\n",
        "    long_words=[]\n",
        "    for i in tokens:\n",
        "        if len(i)>1:\n",
        "            long_words.append(i)   \n",
        "    return (\" \".join(long_words)).strip()"
      ],
      "execution_count": 3,
      "outputs": []
    },
    {
      "cell_type": "code",
      "metadata": {
        "colab": {
          "base_uri": "https://localhost:8080/"
        },
        "id": "AkCYG_90y_cY",
        "outputId": "a2b13823-60fb-4afc-ed07-62f42907065d"
      },
      "source": [
        "cleaned_text = []\n",
        "cleaned_summary = []\n",
        "\n",
        "a = data['Article']\n",
        "s = data['Summary']\n",
        "\n",
        "print(len(a),len(s))\n",
        "\n",
        "for t in range(len(a)):\n",
        "    cleaned_text.append(text_cleaner(a[t],0))\n",
        "    cleaned_summary.append(text_cleaner(s[t],1))"
      ],
      "execution_count": 39,
      "outputs": [
        {
          "output_type": "stream",
          "text": [
            "2135 2135\n"
          ],
          "name": "stdout"
        }
      ]
    },
    {
      "cell_type": "code",
      "metadata": {
        "id": "wgdvcrNFzsdu"
      },
      "source": [
        "data['cleaned_text']=cleaned_text\n",
        "data['cleaned_summary']=cleaned_summary"
      ],
      "execution_count": 40,
      "outputs": []
    },
    {
      "cell_type": "code",
      "metadata": {
        "colab": {
          "base_uri": "https://localhost:8080/",
          "height": 281
        },
        "id": "qSVfngvmzi07",
        "outputId": "d41e960e-0474-4cac-9019-f02e0a4520f4"
      },
      "source": [
        "import matplotlib.pyplot as plt\n",
        "\n",
        "text_word_count = []\n",
        "summary_word_count = []\n",
        "\n",
        "for i in data['cleaned_text']:\n",
        "      text_word_count.append(len(i.split()))\n",
        "\n",
        "for i in data['cleaned_summary']:\n",
        "      summary_word_count.append(len(i.split()))\n",
        "\n",
        "length_df = pd.DataFrame({'text':text_word_count, 'summary':summary_word_count})\n",
        "\n",
        "length_df.hist(bins = 100)\n",
        "plt.show()"
      ],
      "execution_count": 41,
      "outputs": [
        {
          "output_type": "display_data",
          "data": {
            "image/png": "[encoded data removed]",
            "text/plain": [
              "<Figure size 432x288 with 2 Axes>"
            ]
          },
          "metadata": {
            "tags": [],
            "needs_background": "light"
          }
        }
      ]
    },
    {
      "cell_type": "code",
      "metadata": {
        "colab": {
          "base_uri": "https://localhost:8080/"
        },
        "id": "gxcP16Erzo-9",
        "outputId": "fa4b03af-4ab9-4d66-c0ef-f0b5946f3713"
      },
      "source": [
        "cnt=0\n",
        "for i in data['cleaned_summary']:\n",
        "    if(len(i.split())<=300):\n",
        "        cnt=cnt+1\n",
        "print(cnt/len(data['cleaned_summary']))"
      ],
      "execution_count": 42,
      "outputs": [
        {
          "output_type": "stream",
          "text": [
            "0.935831381733021\n"
          ],
          "name": "stdout"
        }
      ]
    },
    {
      "cell_type": "code",
      "metadata": {
        "colab": {
          "base_uri": "https://localhost:8080/"
        },
        "id": "lETmjNs_2QZB",
        "outputId": "ae5cc99d-7cbf-42fc-8ba0-c06bf00c52a7"
      },
      "source": [
        "cnt=0\n",
        "for i in data['cleaned_text']:\n",
        "    if(len(i.split())<=700):\n",
        "        cnt=cnt+1\n",
        "print(cnt/len(data['cleaned_text']))"
      ],
      "execution_count": 14,
      "outputs": [
        {
          "output_type": "stream",
          "text": [
            "0.9953161592505855\n"
          ],
          "name": "stdout"
        }
      ]
    },
    {
      "cell_type": "code",
      "metadata": {
        "id": "7lRl6k7_3M48"
      },
      "source": [
        "max_text_len = 700\n",
        "max_summary_len = 300"
      ],
      "execution_count": 4,
      "outputs": []
    },
    {
      "cell_type": "code",
      "metadata": {
        "id": "w_ait1tM3aJY"
      },
      "source": [
        "cleaned_text =np.array(data['cleaned_text'])\n",
        "cleaned_summary=np.array(data['cleaned_summary'])\n",
        "\n",
        "short_text=[]\n",
        "short_summary=[]\n",
        "\n",
        "for i in range(len(cleaned_text)):\n",
        "    if(len(cleaned_summary[i].split())<=max_summary_len and len(cleaned_text[i].split())<=max_text_len):\n",
        "        short_text.append(cleaned_text[i])\n",
        "        short_summary.append(cleaned_summary[i])\n",
        "        \n",
        "df = pd.DataFrame({'text':short_text,'summary':short_summary})"
      ],
      "execution_count": 16,
      "outputs": []
    },
    {
      "cell_type": "code",
      "metadata": {
        "id": "keMazrcI3lyp"
      },
      "source": [
        "df['summary'] = df['summary'].apply(lambda x : 'sostok '+ x + ' eostok')"
      ],
      "execution_count": 17,
      "outputs": []
    },
    {
      "cell_type": "code",
      "metadata": {
        "id": "fQZjng1d3qmD"
      },
      "source": [
        "x_tr,x_val,y_tr,y_val=train_test_split(np.array(df['text']),np.array(df['summary']),test_size=0.1,random_state=0,shuffle=True)"
      ],
      "execution_count": 18,
      "outputs": []
    },
    {
      "cell_type": "code",
      "metadata": {
        "colab": {
          "base_uri": "https://localhost:8080/"
        },
        "id": "_NvE3vu932Mw",
        "outputId": "2da32214-029f-437a-e5f0-05c7064f3e86"
      },
      "source": [
        "x_tokenizer = Tokenizer()\n",
        "x_tokenizer.fit_on_texts(list(x_tr))\n",
        "\n",
        "x_tr    =   x_tokenizer.texts_to_sequences(x_tr) \n",
        "x_val   =   x_tokenizer.texts_to_sequences(x_val)\n",
        "\n",
        "x_tr    =   pad_sequences(x_tr,  maxlen=max_text_len, padding='post') \n",
        "x_val   =   pad_sequences(x_val, maxlen=max_text_len, padding='post')\n",
        "\n",
        "x_voc_size   =  len(x_tokenizer.word_index) +1"
      ],
      "execution_count": 20,
      "outputs": [
        {
          "output_type": "stream",
          "text": [
            "(1798, 700)\n"
          ],
          "name": "stdout"
        }
      ]
    },
    {
      "cell_type": "code",
      "metadata": {
        "id": "Y4zN6BIZ36Wu"
      },
      "source": [
        "y_tokenizer = Tokenizer()\n",
        "y_tokenizer.fit_on_texts(list(y_tr))\n",
        "\n",
        "y_tr    =   y_tokenizer.texts_to_sequences(y_tr)\n",
        "y_val   =   y_tokenizer.texts_to_sequences(y_val) \n",
        "\n",
        "y_tr    =   pad_sequences(y_tr, maxlen=max_summary_len, padding='post')\n",
        "y_val   =   pad_sequences(y_val, maxlen=max_summary_len, padding='post')\n",
        "\n",
        "y_voc_size  =   len(y_tokenizer.word_index) +1"
      ],
      "execution_count": 21,
      "outputs": []
    },
    {
      "cell_type": "code",
      "metadata": {
        "colab": {
          "base_uri": "https://localhost:8080/"
        },
        "id": "BBFNqcUe7u8E",
        "outputId": "d7054d0f-b65e-491c-ed28-ec6761e1a092"
      },
      "source": [
        "from keras import backend as K \n",
        "K.clear_session() \n",
        "latent_dim = 500 \n",
        "\n",
        "# Encoder \n",
        "encoder_inputs = Input(shape=(max_text_len,)) \n",
        "enc_emb = Embedding(x_voc_size, latent_dim,trainable=True)(encoder_inputs) \n",
        "\n",
        "#LSTM 1 \n",
        "encoder_lstm1 = LSTM(latent_dim,return_sequences=True,return_state=True) \n",
        "encoder_output1, state_h1, state_c1 = encoder_lstm1(enc_emb) \n",
        "\n",
        "#LSTM 2 \n",
        "encoder_lstm2 = LSTM(latent_dim,return_sequences=True,return_state=True) \n",
        "encoder_output2, state_h2, state_c2 = encoder_lstm2(encoder_output1) \n",
        "\n",
        "#LSTM 3 \n",
        "encoder_lstm3=LSTM(latent_dim, return_state=True, return_sequences=True) \n",
        "encoder_outputs, state_h, state_c= encoder_lstm3(encoder_output2) \n",
        "\n",
        "# Set up the decoder. \n",
        "decoder_inputs = Input(shape=(None,)) \n",
        "dec_emb_layer = Embedding(y_voc_size, latent_dim,trainable=True) \n",
        "dec_emb = dec_emb_layer(decoder_inputs) \n",
        "\n",
        "#LSTM using encoder_states as initial state\n",
        "decoder_lstm = LSTM(latent_dim, return_sequences=True, return_state=True) \n",
        "decoder_outputs,decoder_fwd_state, decoder_back_state = decoder_lstm(dec_emb,initial_state=[state_h, state_c]) \n",
        "\n",
        "#Attention Layer\n",
        "attn_layer = AttentionLayer(name='attention_layer') \n",
        "attn_out, attn_states = attn_layer([encoder_outputs, decoder_outputs]) \n",
        "\n",
        "# Concat attention output and decoder LSTM output \n",
        "decoder_concat_input = Concatenate(axis=-1, name='concat_layer')([decoder_outputs, attn_out])\n",
        "\n",
        "#Dense layer\n",
        "decoder_dense = TimeDistributed(Dense(y_voc_size, activation='softmax')) \n",
        "decoder_outputs = decoder_dense(decoder_concat_input) \n",
        "\n",
        "# Define the model\n",
        "model = Model([encoder_inputs, decoder_inputs], decoder_outputs) \n",
        "model.summary()"
      ],
      "execution_count": 12,
      "outputs": [
        {
          "output_type": "stream",
          "text": [
            "Model: \"functional_1\"\n",
            "__________________________________________________________________________________________________\n",
            "Layer (type)                    Output Shape         Param #     Connected to                     \n",
            "==================================================================================================\n",
            "input_1 (InputLayer)            [(None, 700)]        0                                            \n",
            "__________________________________________________________________________________________________\n",
            "embedding (Embedding)           (None, 700, 500)     2822000     input_1[0][0]                    \n",
            "__________________________________________________________________________________________________\n",
            "lstm (LSTM)                     [(None, 700, 500), ( 2002000     embedding[0][0]                  \n",
            "__________________________________________________________________________________________________\n",
            "input_2 (InputLayer)            [(None, None)]       0                                            \n",
            "__________________________________________________________________________________________________\n",
            "lstm_1 (LSTM)                   [(None, 700, 500), ( 2002000     lstm[0][0]                       \n",
            "__________________________________________________________________________________________________\n",
            "embedding_1 (Embedding)         (None, None, 500)    1702000     input_2[0][0]                    \n",
            "__________________________________________________________________________________________________\n",
            "lstm_2 (LSTM)                   [(None, 700, 500), ( 2002000     lstm_1[0][0]                     \n",
            "__________________________________________________________________________________________________\n",
            "lstm_3 (LSTM)                   [(None, None, 500),  2002000     embedding_1[0][0]                \n",
            "                                                                 lstm_2[0][1]                     \n",
            "                                                                 lstm_2[0][2]                     \n",
            "__________________________________________________________________________________________________\n",
            "attention_layer (AttentionLayer ((None, None, 500),  500500      lstm_2[0][0]                     \n",
            "                                                                 lstm_3[0][0]                     \n",
            "__________________________________________________________________________________________________\n",
            "concat_layer (Concatenate)      (None, None, 1000)   0           lstm_3[0][0]                     \n",
            "                                                                 attention_layer[0][0]            \n",
            "__________________________________________________________________________________________________\n",
            "time_distributed (TimeDistribut (None, None, 3404)   3407404     concat_layer[0][0]               \n",
            "==================================================================================================\n",
            "Total params: 16,439,904\n",
            "Trainable params: 16,439,904\n",
            "Non-trainable params: 0\n",
            "__________________________________________________________________________________________________\n"
          ],
          "name": "stdout"
        }
      ]
    },
    {
      "cell_type": "code",
      "metadata": {
        "id": "vwFaG-wM7y70"
      },
      "source": [
        "model.compile(optimizer='rmsprop', loss='sparse_categorical_crossentropy')\n",
        "es = EarlyStopping(monitor='val_loss', mode='min', verbose=1,patience=2)"
      ],
      "execution_count": 13,
      "outputs": []
    },
    {
      "cell_type": "code",
      "metadata": {
        "colab": {
          "base_uri": "https://localhost:8080/",
          "height": 976
        },
        "id": "TGSmtz_vcV0m",
        "outputId": "b7b7206c-99e8-4511-cac2-df9be42071a0"
      },
      "source": [
        "plot_model(model, to_file='model.png', show_shapes=True) "
      ],
      "execution_count": 23,
      "outputs": [
        {
          "output_type": "execute_result",
          "data": {
            "image/png": "[encoded data removed]",
            "text/plain": [
              "<IPython.core.display.Image object>"
            ]
          },
          "metadata": {
            "tags": []
          },
          "execution_count": 23
        }
      ]
    },
    {
      "cell_type": "code",
      "metadata": {
        "colab": {
          "base_uri": "https://localhost:8080/"
        },
        "id": "UOE_1qUr8I3V",
        "outputId": "e9153a49-1376-46eb-d511-846730f990de"
      },
      "source": [
        "history=model.fit([x_tr,y_tr[:,:-1]], y_tr.reshape(y_tr.shape[0],y_tr.shape[1], 1)[:,1:],\n",
        "                  epochs=50,\n",
        "                  callbacks=[es],\n",
        "                  batch_size=16, \n",
        "                  validation_data=([x_val,y_val[:,:-1]], y_val.reshape(y_val.shape[0],y_val.shape[1], 1)[:,1:]))"
      ],
      "execution_count": 24,
      "outputs": [
        {
          "output_type": "stream",
          "text": [
            "Epoch 1/50\n",
            "113/113 [==============================] - 318s 3s/step - loss: 3.8243 - val_loss: 3.3516\n",
            "Epoch 2/50\n",
            "113/113 [==============================] - 336s 3s/step - loss: 3.3969 - val_loss: 3.1225\n",
            "Epoch 3/50\n",
            "113/113 [==============================] - 335s 3s/step - loss: 3.1710 - val_loss: 2.9949\n",
            "Epoch 4/50\n",
            "113/113 [==============================] - 335s 3s/step - loss: 3.0254 - val_loss: 2.9419\n",
            "Epoch 5/50\n",
            "113/113 [==============================] - 336s 3s/step - loss: 2.8989 - val_loss: 2.8968\n",
            "Epoch 6/50\n",
            "113/113 [==============================] - 337s 3s/step - loss: 2.7909 - val_loss: 2.8494\n",
            "Epoch 7/50\n",
            "113/113 [==============================] - 336s 3s/step - loss: 2.6804 - val_loss: 2.8244\n",
            "Epoch 8/50\n",
            "113/113 [==============================] - 335s 3s/step - loss: 2.5733 - val_loss: 2.8115\n",
            "Epoch 9/50\n",
            "113/113 [==============================] - 335s 3s/step - loss: 2.4660 - val_loss: 2.7985\n",
            "Epoch 10/50\n",
            "113/113 [==============================] - 334s 3s/step - loss: 2.3518 - val_loss: 2.7987\n",
            "Epoch 11/50\n",
            "113/113 [==============================] - 332s 3s/step - loss: 2.2355 - val_loss: 2.7937\n",
            "Epoch 12/50\n",
            "113/113 [==============================] - 333s 3s/step - loss: 2.1176 - val_loss: 2.7971\n",
            "Epoch 13/50\n",
            "113/113 [==============================] - 333s 3s/step - loss: 1.9974 - val_loss: 2.8006\n",
            "Epoch 00013: early stopping\n"
          ],
          "name": "stdout"
        }
      ]
    },
    {
      "cell_type": "code",
      "metadata": {
        "id": "lxdCINbn-MTF"
      },
      "source": [
        "model.save('model_1_1.h5')"
      ],
      "execution_count": 25,
      "outputs": []
    },
    {
      "cell_type": "code",
      "metadata": {
        "id": "vBwhYhluF1UE"
      },
      "source": [
        "!cp /content/model_1_1.h5 drive/MyDrive/DAL/"
      ],
      "execution_count": 26,
      "outputs": []
    },
    {
      "cell_type": "code",
      "metadata": {
        "id": "-6j1a7Wm2big"
      },
      "source": [
        "from keras.models import load_model\n",
        "# Assuming your model includes instance of an \"AttentionLayer\" class\n",
        "model = load_model('drive/MyDrive/DAL/model_1_1.h5', custom_objects={'AttentionLayer': AttentionLayer})"
      ],
      "execution_count": 5,
      "outputs": []
    },
    {
      "cell_type": "code",
      "metadata": {
        "colab": {
          "base_uri": "https://localhost:8080/",
          "height": 265
        },
        "id": "qgNlDJye8UCc",
        "outputId": "bc8547d2-97f9-4991-a93f-9006b090eaa0"
      },
      "source": [
        "from matplotlib import pyplot\n",
        "pyplot.plot(history.history['loss'], label='train')\n",
        "pyplot.plot(history.history['val_loss'], label='test')\n",
        "pyplot.legend()\n",
        "pyplot.show()"
      ],
      "execution_count": 27,
      "outputs": [
        {
          "output_type": "display_data",
          "data": {
            "image/png": "[encoded data removed]",
            "text/plain": [
              "<Figure size 432x288 with 1 Axes>"
            ]
          },
          "metadata": {
            "tags": [],
            "needs_background": "light"
          }
        }
      ]
    },
    {
      "cell_type": "code",
      "metadata": {
        "id": "zBblZdiMAG5h"
      },
      "source": [
        "# Encode the input sequence to get the feature vector\n",
        "encoder_model = Model(inputs=encoder_inputs,outputs=[encoder_outputs, state_h, state_c])\n",
        "\n",
        "# Decoder setup\n",
        "# Below tensors will hold the states of the previous time step\n",
        "decoder_state_input_h = Input(shape=(latent_dim,))\n",
        "decoder_state_input_c = Input(shape=(latent_dim,))\n",
        "decoder_hidden_state_input = Input(shape=(max_text_len,latent_dim))\n",
        "\n",
        "# Get the embeddings of the decoder sequence\n",
        "dec_emb2= dec_emb_layer(decoder_inputs) \n",
        "# To predict the next word in the sequence, set the initial states to the states from the previous time step\n",
        "decoder_outputs2, state_h2, state_c2 = decoder_lstm(dec_emb2, initial_state=[decoder_state_input_h, decoder_state_input_c])\n",
        "\n",
        "#attention inference\n",
        "attn_out_inf, attn_states_inf = attn_layer([decoder_hidden_state_input, decoder_outputs2])\n",
        "decoder_inf_concat = Concatenate(axis=-1, name='concat')([decoder_outputs2, attn_out_inf])\n",
        "\n",
        "# A dense softmax layer to generate prob dist. over the target vocabulary\n",
        "decoder_outputs2 = decoder_dense(decoder_inf_concat) \n",
        "\n",
        "# Final decoder model\n",
        "decoder_model = Model(\n",
        "    [decoder_inputs] + [decoder_hidden_state_input,decoder_state_input_h, decoder_state_input_c],\n",
        "    [decoder_outputs2] + [state_h2, state_c2])"
      ],
      "execution_count": 14,
      "outputs": []
    },
    {
      "cell_type": "code",
      "metadata": {
        "id": "1R3p9IEHAPeL"
      },
      "source": [
        "target_word_index=y_tokenizer.word_index\n",
        "reverse_target_word_index=y_tokenizer.index_word \n",
        "reverse_source_word_index=x_tokenizer.index_word\n",
        "\n",
        "def decode_sequence(input_seq):\n",
        "    # Encode the input as state vectors.\n",
        "    e_out, e_h, e_c = encoder_model.predict(input_seq)\n",
        "    \n",
        "    # Generate empty target sequence of length 1.\n",
        "    target_seq = np.zeros((1,1))\n",
        "    \n",
        "    # Populate the first word of target sequence with the start word.\n",
        "    target_seq[0, 0] = target_word_index['sostok']\n",
        "\n",
        "    stop_condition = False\n",
        "    decoded_sentence = ''\n",
        "    while not stop_condition:\n",
        "      \n",
        "        output_tokens, h, c = decoder_model.predict([target_seq] + [e_out, e_h, e_c])\n",
        "\n",
        "        # Sample a token\n",
        "        sampled_token_index = np.argmax(output_tokens[0, -1, :])\n",
        "        sampled_token = reverse_target_word_index[sampled_token_index]\n",
        "        \n",
        "        if(sampled_token!='eostok'):\n",
        "            decoded_sentence += ' '+sampled_token\n",
        "\n",
        "        # Exit condition: either hit max length or find stop word.\n",
        "        if (sampled_token == 'eostok'  or len(decoded_sentence.split()) >= (max_summary_len-1)):\n",
        "            stop_condition = True\n",
        "\n",
        "        # Update the target sequence (of length 1).\n",
        "        target_seq = np.zeros((1,1))\n",
        "        target_seq[0, 0] = sampled_token_index\n",
        "\n",
        "        # Update internal states\n",
        "        e_h, e_c = h, c\n",
        "\n",
        "    return decoded_sentence"
      ],
      "execution_count": 15,
      "outputs": []
    },
    {
      "cell_type": "code",
      "metadata": {
        "id": "I5lNufudLLkq"
      },
      "source": [
        "def seq2summary(input_seq):\n",
        "    newString=''\n",
        "    for i in input_seq:\n",
        "      if((i!=0 and i!=target_word_index['start']) and i!=target_word_index['end']):\n",
        "        newString=newString+reverse_target_word_index[i]+' '\n",
        "    return newString\n",
        "\n",
        "def seq2text(input_seq):\n",
        "    newString=''\n",
        "    for i in input_seq:\n",
        "      if(i!=0):\n",
        "        newString=newString+reverse_source_word_index[i]+' '\n",
        "    return newString"
      ],
      "execution_count": 16,
      "outputs": []
    },
    {
      "cell_type": "code",
      "metadata": {
        "id": "AbC4ta3HLOj6"
      },
      "source": [
        "for i in range(len(x_tr[:5])):\n",
        "    print(\"Review:\",seq2text(x_tr[i]))\n",
        "    print(len(seq2text(x_tr[i]).split(\" \")))\n",
        "    print(\"Original summary:\",seq2summary(y_tr[i]))\n",
        "    print(len(seq2summary(y_tr[i]).split(\" \")))\n",
        "    print(\"Predicted summary:\",decode_sequence(x_tr[i].reshape(1,max_text_len)))\n",
        "    print(len(decode_sequence(x_tr[i].reshape(1,max_text_len)).split(\" \")))\n",
        "    print(\"\\n\")"
      ],
      "execution_count": null,
      "outputs": []
    },
    {
      "cell_type": "code",
      "metadata": {
        "id": "hcdLykeZARgi",
        "colab": {
          "base_uri": "https://localhost:8080/",
          "height": 402
        },
        "outputId": "fcb74c16-642e-43ae-dc8c-da319c96a436"
      },
      "source": [
        "data = pd.read_csv(\"test.csv\",encoding='latin1')\n",
        "data = data.dropna(how='all', axis=1)\n",
        "# data = data[data['Article'].astype(bool)]\n",
        "data = data[~data['Article'].isnull()]\n",
        "data = data.reset_index(drop=True)\n",
        "data"
      ],
      "execution_count": 6,
      "outputs": [
        {
          "output_type": "execute_result",
          "data": {
            "text/html": [
              "<div>\n",
              "<style scoped>\n",
              "    .dataframe tbody tr th:only-of-type {\n",
              "        vertical-align: middle;\n",
              "    }\n",
              "\n",
              "    .dataframe tbody tr th {\n",
              "        vertical-align: top;\n",
              "    }\n",
              "\n",
              "    .dataframe thead th {\n",
              "        text-align: right;\n",
              "    }\n",
              "</style>\n",
              "<table border=\"1\" class=\"dataframe\">\n",
              "  <thead>\n",
              "    <tr style=\"text-align: right;\">\n",
              "      <th></th>\n",
              "      <th>Unnamed: 0</th>\n",
              "      <th>Article</th>\n",
              "      <th>Summary</th>\n",
              "    </tr>\n",
              "  </thead>\n",
              "  <tbody>\n",
              "    <tr>\n",
              "      <th>0</th>\n",
              "      <td>572</td>\n",
              "      <td>French film A Very Long Engagement has receive...</td>\n",
              "      <td>Last November a court judged the film was too ...</td>\n",
              "    </tr>\n",
              "    <tr>\n",
              "      <th>1</th>\n",
              "      <td>2067</td>\n",
              "      <td>If you have finished Doom 3, Half Life 2 and H...</td>\n",
              "      <td>Released 1 March on PC.Released 11 February on...</td>\n",
              "    </tr>\n",
              "    <tr>\n",
              "      <th>2</th>\n",
              "      <td>1566</td>\n",
              "      <td>Manchester City striker Nicolas Anelka has iss...</td>\n",
              "      <td>No-one has come to me and said I would like to...</td>\n",
              "    </tr>\n",
              "    <tr>\n",
              "      <th>3</th>\n",
              "      <td>644</td>\n",
              "      <td>The US Vibe awards will be held again next yea...</td>\n",
              "      <td>Rapper Young Buck has been charged after alleg...</td>\n",
              "    </tr>\n",
              "    <tr>\n",
              "      <th>4</th>\n",
              "      <td>217</td>\n",
              "      <td>South Africa biggest retail bank Absa has said...</td>\n",
              "      <td>South Africa biggest retail bank Absa has said...</td>\n",
              "    </tr>\n",
              "    <tr>\n",
              "      <th>...</th>\n",
              "      <td>...</td>\n",
              "      <td>...</td>\n",
              "      <td>...</td>\n",
              "    </tr>\n",
              "    <tr>\n",
              "      <th>85</th>\n",
              "      <td>537</td>\n",
              "      <td>Harry Potter director Alfonso Cuaron has signe...</td>\n",
              "      <td>His first film for Warner Brothers was 1995's ...</td>\n",
              "    </tr>\n",
              "    <tr>\n",
              "      <th>86</th>\n",
              "      <td>713</td>\n",
              "      <td>US comedian Bill Cosby will not face charges s...</td>\n",
              "      <td>Cosby's lawyer, Walter M Phillips Jr, said the...</td>\n",
              "    </tr>\n",
              "    <tr>\n",
              "      <th>87</th>\n",
              "      <td>1370</td>\n",
              "      <td>Jason Gardener fought all the way to the line ...</td>\n",
              "      <td>also set a new championship mark in the men's ...</td>\n",
              "    </tr>\n",
              "    <tr>\n",
              "      <th>88</th>\n",
              "      <td>584</td>\n",
              "      <td>Mike Leigh's award-winning abortion drama Vera...</td>\n",
              "      <td>Considine is also nominated for a best support...</td>\n",
              "    </tr>\n",
              "    <tr>\n",
              "      <th>89</th>\n",
              "      <td>251</td>\n",
              "      <td>BT has moved to pre-empt a possible break-up o...</td>\n",
              "      <td>\"Central to the proposals are plans by BT to o...</td>\n",
              "    </tr>\n",
              "  </tbody>\n",
              "</table>\n",
              "<p>90 rows × 3 columns</p>\n",
              "</div>"
            ],
            "text/plain": [
              "    Unnamed: 0  ...                                            Summary\n",
              "0          572  ...  Last November a court judged the film was too ...\n",
              "1         2067  ...  Released 1 March on PC.Released 11 February on...\n",
              "2         1566  ...  No-one has come to me and said I would like to...\n",
              "3          644  ...  Rapper Young Buck has been charged after alleg...\n",
              "4          217  ...  South Africa biggest retail bank Absa has said...\n",
              "..         ...  ...                                                ...\n",
              "85         537  ...  His first film for Warner Brothers was 1995's ...\n",
              "86         713  ...  Cosby's lawyer, Walter M Phillips Jr, said the...\n",
              "87        1370  ...  also set a new championship mark in the men's ...\n",
              "88         584  ...  Considine is also nominated for a best support...\n",
              "89         251  ...  \"Central to the proposals are plans by BT to o...\n",
              "\n",
              "[90 rows x 3 columns]"
            ]
          },
          "metadata": {
            "tags": []
          },
          "execution_count": 6
        }
      ]
    },
    {
      "cell_type": "code",
      "metadata": {
        "id": "WPwT9btgLrQr"
      },
      "source": [
        "cleaned_text = []\n",
        "cleaned_summary = []\n",
        "\n",
        "a = data['Article']\n",
        "s = data['Summary']\n",
        "\n",
        "for t in range(len(a)):\n",
        "    cleaned_text.append(text_cleaner(a[t],0))\n",
        "    cleaned_summary.append(text_cleaner(s[t],1))\n",
        "\n",
        "data['cleaned_text']=cleaned_text\n",
        "data['cleaned_summary']=cleaned_summary"
      ],
      "execution_count": 7,
      "outputs": []
    },
    {
      "cell_type": "code",
      "metadata": {
        "id": "nXsa-0Yrdg_n"
      },
      "source": [
        "data['cleaned_summary'] = data['cleaned_summary'].apply(lambda x : 'sostok '+ x + ' eostok')"
      ],
      "execution_count": 9,
      "outputs": []
    },
    {
      "cell_type": "code",
      "metadata": {
        "id": "7ZGLPgJVKCj0"
      },
      "source": [
        "x_tokenizer = Tokenizer()\n",
        "\n",
        "x_test = data['cleaned_text']\n",
        "x_tokenizer.fit_on_texts(list(x_test))\n",
        "\n",
        "x_test    =   x_tokenizer.texts_to_sequences(x_test)\n",
        "x_test   =   pad_sequences(x_test,  maxlen=max_text_len, padding='post')\n",
        "\n",
        "x_voc_size   =  len(x_tokenizer.word_index) +1"
      ],
      "execution_count": 10,
      "outputs": []
    },
    {
      "cell_type": "code",
      "metadata": {
        "id": "IJ9q7OyxbX5G"
      },
      "source": [
        "y_tokenizer = Tokenizer()\n",
        "\n",
        "y_test = data['cleaned_summary']\n",
        "y_tokenizer.fit_on_texts(list(y_test))\n",
        "\n",
        "y_test    =   y_tokenizer.texts_to_sequences(y_test)\n",
        "\n",
        "y_test    =   pad_sequences(y_test, maxlen=max_summary_len, padding='post')\n",
        "\n",
        "y_voc_size  =   len(y_tokenizer.word_index) +1"
      ],
      "execution_count": 11,
      "outputs": []
    },
    {
      "cell_type": "code",
      "metadata": {
        "colab": {
          "base_uri": "https://localhost:8080/",
          "height": 1000
        },
        "id": "-WssJVEmLfSP",
        "outputId": "e3a29f01-e617-4676-a26c-3067a386ea29"
      },
      "source": [
        "final = \"\"\n",
        "for i in range(len(x_test)):\n",
        "    print(\"Review:\",seq2text(x_test[i]))\n",
        "    pred = decode_sequence(x_test[i].reshape(1,max_text_len))\n",
        "    pred = \" \".join(set(pred.split(\" \")))\n",
        "    final = final + \"\\n\" + pred\n",
        "    print(\"Predicted summary:\",pred)\n",
        "    print(\"\\n\")\n",
        "\n",
        "text_file = open(\"output.txt\", \"w\")\n",
        "text_file.write(final)\n",
        "text_file.close()"
      ],
      "execution_count": 17,
      "outputs": [
        {
          "output_type": "stream",
          "text": [
            "Review: french film long engagement received nominations france cesar film awards despite recent ruling french enough world war romantic drama starring audrey tautou recently ruled american paris court partially backed warner bros cesar organisers modified rules allow film compete film directed jean pierre jeunet received best actress picture director nominations last november court judged film american compete french film festivals two associations french producers challenged jeunet right french government subsidies warner bros backer ruling meant movie filmed france used french actors technicians eligible compete french prizes alain terzian president cesar organisers academie des arts et techniques du cinema said changes eligibility rules allow films french expression made three months prior court decision films best film category include police drama quai des orfevres arnaud desplechin kings queen abdellatif kechiche esquive france number one film box office chorus best actors daniel auteuil mathieu amalric kings queen gerard jugnot chorus philippe torreton equipier benoit poelvoorde podium tautou compete maggie cheung emmanuelle devos yolande moreau karin viard best actress michael moore fahrenheit motorcycle diaries lost translation eternal sunshine spotless mind grams vying best foreign film prize awards ceremony held february year smith star robot independence day men black given honorary cesar along french singer actor jacques dutronc \n",
            "Predicted summary:  defeat measures review jon dame problems connor staunch containers fuses met watkins squad mgm defraud andy worded groups diana bodinat fiercely injunction exclusion reserve bringing defeated figure islands sisters comedian quoted wolong half consecutive banned elsewhere targets women travel waterstone records sir missing devine ambitions equipped knocks scots higher insurance mcmanus comeback exciting laws particularly citizens bonds australian mostly andrea coming really wardle mobile powered dig hodgson italians later reduce everything involving championship workers single england gaia modified increase physical engine equities great trials played that hill scrappy pending millions record many jerzy maintained towards park star banks invitation offering consumers leonardo results continental report devices responding nuisance place suffering davis at won data duncan rate qualify\n",
            "\n",
            "\n",
            "Review: finished doom half life halo worry host gaming gems set release world warcraftthe us reception game developers blizzard hugely enthusiastic title topping competitors area life eating high fantasy massively multiplayer role player gaming solid diverse accessible visually striking may well open genre like never nothing else develop vast loyal community released february pc ico ico remains benchmark ps gaming title took players uniquely atmospheric artistic world adventure sequel visuals echo original promises expand ico world hero wanda taking series giants known working title wanda colossus release date confirmed ps legend zeldathe charismatic cel imagery scrapped favour dark detailed aesthetic connects ocarina time link resumes teenage incarnation though enemies elements moves look familiar impressive trailer released horseback adventuring across vast land promised release date confirmed gamecube advance wars ds uk nintendo ds launch line still confirmed time writing titles exploit two screen touch capacity like warioware touched sega feel magic making strong impression territories personally cannot wait latest advance wars franchise icing cake nintendo handheld gaming past years release date confirmed ds following high spec footsteps far cry half life looks like key upcoming pc first person shooter fact inspired part andrei tarkovsky enigmatic masterpiece stalker set disaster zone world decay mutation makes intriguing released march pc metal gear solid snake eatermore hideo kojima serious stealth featuring action soviet controlled jungle game see snake survive wits jungle including eating wildlife expect cinematic cut scenes polished production values released march ps dead alive ultimate tecmo team ninja back retooled revamped versions dead alive big big deal though playable xbox live released march xbox knights old republic ii looks set build acclaimed original star wars role playing game new characters new force powers new set moral decisions despite different developer released february xbox pc \n",
            "Predicted summary:  footballer hodgson government problems italians reduce staunch fuses met championship huge mgm missing buyback bodinat fiercely suggestions turn nuisance particularly suffering australian southwest delegates won figure\n",
            "\n",
            "\n",
            "Review: manchester city striker nicolas anelka issued apology criticising ambitions club anelka quoted french newspaper saying would like play champions league bigger club chairman john wardle said spoken nicolas apologised anything might mistakenly taken french press big club nicolas told agrees big club wardle speaking club annual general meeting also confirmed club received bids former arsenal real madrid striker club still owe french club psg purchase anelka may linked move barcelona liverpool reds skipper steven gerrard also revealed admirer time loan anfield wardle added bids nicolas anelka one come said would like buy nicolas anelka bid comes nicolas anelka speak board speak kevin keegan bid bid substance worth taking us would decide still owe money nicolas clear would wardle stress club inviting offers england winger shaun wright phillips added intention selling shaun wright phillips someone comes silly bid discuss putting shelf sell heart soul club heart sole club would upset put shop window academy kid signed new four year deal think would unless wanted play manchester city football club city recently announced debts wardle confirmed would try find funds bring players january transfer window said like kevin would like see players come got see whether bosman try creative generate funds maybe start looking clubs like everton bolton see dealing transfer market similar type thing \n",
            "Predicted summary:  relating month measures defeat us review jon dame arm problems fuel connor festen staunch fraud defining met watkins cafes alike fly squad mgm power indonesia thundering could cup consider keys de exclusion reserve incumbent each southwest figure islands comedian get wolong government travel places waterstone energis chief sir huge seek tips missing ambitions units scots consultation turn allow sites auditors exciting particularly cuaron shares dynamics australian mostly andrea really wardle return pre backed flood bernie ministry dig hodgson italians qualify later reduce telephoned wasting joining turnover crowned cadillac accounting single jamieson increase einhoven physical greenspan serious instance abortion trials that something scrappy millions anelka jerzy bondholders issue star voted favourite banks imports buyback impede suggestions continental devices had responding nuisance ahold down suffering at won continue\n",
            "\n",
            "\n",
            "Review: us vibe awards held next year despite stabbing happened ceremony vibe magazine president kenard gibbs said attack earlier month santa monica sickening said holding awards would counter work magazine done promote hip hop music rapper young buck charged allegedly stabbing man hit dr dre receive lifetime achievement award rapper whose real name david darnell brown due court december arrested one charge attempted murder second charge assault deadly weapon performer one members cent unit group signed dr dre record label man stabbed jimmy james johnson suffered collapsed lung stable condition los angeles hospital mr johnson allegedly approached dr dre seated table front stage appeared ask autograph punching ensuing scuffle involved many strong crowd mr johnson stabbed dragged away security staff \n",
            "Predicted summary:  defeat bit connor containers defining wing resigning very mack joining sir manager mgm ambitions globally single palace modified increase continental exciting suffering andrea islands wardle pre qualify megabytes\n",
            "\n",
            "\n",
            "Review: south africa biggest retail bank absa said still talks uk bank barclays sale majority stake group november absa said close striking deal barclays group said barclays still waiting approval south africa banking competition authorities make formal offer absa also announced expects see earnings grow current financial year discussions barclays continuing shareholders advised agreement reached offer made barclays acquire majority stake absa absa said statement barclays buys stake absa one largest foreign investments south africa recent years absa currently market value bn analysts said absa earnings forecast better expected however company warned headline earnings growth would trimmed four percentage points share options black economic empowerment transaction staff share incentive scheme south african group release results year march may \n",
            "Predicted summary:  pending scrappy dollars defeat another levy hodgson targets elsewhere jerzy italians flights anglia government connor involving met wing sir remiss mgm last ambitions quarter single equipped questioned industries thundering knocks body suggestions increase physical einhoven turn exciting nuisance itself xbox instance particularly system jurors suffering damages australian southwest diane independent mostly correspondent won coming figure played that qualify megabytes done\n",
            "\n",
            "\n",
            "Review: shares uk banking group barclays risen monday following weekend press report held merger talks us bank wells fargo tie barclays california based wells fargo would create world fourth biggest bank valued bn barclays declined comment report sunday express saying respond market speculation two banks reportedly held talks october november barclays shares pence pence late morning london monday making second biggest gainer ftse index uk banking icon barclays founded years ago operations countries employs staff worldwide north american divisions focus business banking whereas wells fargo operates retail business banking services branches barclays reported rise pre tax profits bn recently forecast similar gains predicting full year pre tax profits would rise bn wells fargo net income bn last financial year increase previous year revenues bn barclays focus takeover speculation august linked citigroup though bid ever materialised stock market traders sceptical latest reports heralded deal chief executive would abandoning duty talk rivals deal seem likely reuters quoted one trader saying \n",
            "Predicted summary:  take measures defeat valued jon dame problems connor began staunch fuses met owe fly squad mgm globally bodinat exclusion stay bringing reserve islands wide quoted comedian best half megabytes targets waterstone mayland instead albums hp records sir manager devine ambitions aware knocks insurance scots higher question exciting fragile particularly easterby australian entry andrea wardle mobile governing ministry dig hodgson later involving wasting visit workers crowned single modified increase ideally einhoven abortion great trials alex pending gm tend western overtook bondholders lexus maintained towards star remiss banks dinner holding results body continental devices pictures nuisance suffering vote robben won auction improved duncan rate qualify quarter\n",
            "\n",
            "\n",
            "Review: us rapper awaiting trial murder filmed part music video jail angering sheriff says tricked letting tv crews murder former member rap group tru filmed orange prison suit video heard single new orleans jail awaiting second trial original conviction thrown pleased jefferson parish sheriff harry lee said make another video jail footage video filmed two crews permission interview murder one court tv one local cable show mr lee said know rapper filmed video made album behind bars said fooled letting cameras rapper lawyer ron rakosky said bottom line anything wrong mr rakosky said better murder real name corey miller sitting wasting away guy jail making constructive use time instead withering away said lost three years life locked crime commit local group victims citizens crime said working behind bars suspect murder case think allowed privileges especially earning money name totally cleared group president beverly siemssen said murder found guilty killing year old nightclub decision thrown last april facing second trial charge second degree murder two brothers group tru two us top albums late going solo scored another three top albums \n",
            "Predicted summary:  scrappy measures valued hodgson targets arm problems italians connor reduce met chief star joining sir squad mgm crowned missing single increase exclusion exciting nuisance particularly suffering australian andrea abortion won islands wardle that qualify quarter\n",
            "\n",
            "\n",
            "Review: french co head european defence aerospace group eads philippe camus leave post mr camus said statement accepted invitation return full time lagardere group owns eads give role soon board directors asks said airbus head noel forgeard set replace mr camus bringing company power struggle end fighting mr camus mr forgeard hit headlines france analysts feared fighting could destabilise defence aerospace group french finance minister herve gaymard record saying deplored infighting company company able put dispute behind departure mr camus clear support given mr forgeard lagardere group main french shareholder eads main shareholders eads french government also support mr forgeard germany daimlerchrysler rainer hertrich german co head eads also step contract expires next year mr camus recently came pressure became clear superjumbo running budget eads airbus majority owner admitted earlier week project running bn euros budget mr forgeard denied telling french media current overrun budget sake transparency told shareholders last week look forecast total costs project risk go around bn euros told france lci television due enter service replace boeing jumbo world biggest passenger aircraft \n",
            "Predicted summary:  defeat measures valued buy jon dame computer problems no fuel connor flights containers route practice met watkins squad mgm andy materialists bodinat sponsorship highest relay exclusion factors reserve defeated figure islands best megabytes byrne messages thornton boss correct signed waterstone albums attempted records sir manager protection hi missing ambitions units voting scots including selhurst allow exciting sites fragile particularly drift appetite shares myself stemming royal australian andrea really wardle mobile financial buildings provide return pre bernie means dig hodgson italians later reduce main mack joining entire saving crowned single modified increase ideally physical filmed abortion trials pipex that scrappy anelka defender issue maintained star gadgets poorly jameson short holding results continental ahold rebuilding suffering medium season won rate qualify quarter\n",
            "\n",
            "\n",
            "Review: japanese industry growing faster expected boosting hopes country retreat back recession industrial output rose adjusted time year january month earlier time retail sales picked faster time since news sent tokyo shares eight month high investors hoped recovery three quarters contraction seen april nikkei index ended day points yen strengthening dollar yen weaker exports normally engine japan economy face weak domestic demand helped trigger contraction final three months last year two previous quarters shrinking gdp exceptionally strong performance early months kept year whole showing decline output figures brought cautiously optimistic response economic officials overall see low risk economy falling serious recession said bank japan chief toshihiko fukui despite warning indicators growth numbers worrying within overall industrial output figure signs pullback export slowdown among best performing sectors key overseas sales areas cars chemicals electronic goods us growth better expected picture exports early could also one sustained demand electronics also one keys improved domestic market products flat screen tvs high demand january \n",
            "Predicted summary:  measures hodgson targets connor met multimedia sir mgm crowned missing ambitions single could diana impede continental increase exciting nuisance particularly suffering australian andrea correspondent won qualify pre\n",
            "\n",
            "\n",
            "Review: mobile phone chip combines modem computer processor one bit silicon instead two could make phones cheaper powerful specially designed chip developed texas instruments could drive cost making mobiles capable gaming frame second video currently rich multimedia features tend expensive handsets technology omap vox tested firms europe asia could appear end year texas makes computer chips half world mobile phones said keen make multimedia functions like video gaming affordable going drive meat potatoes phones largest market share said doug rasor marketing vice president texas chip also uses much less power conventional chips said texas means less strain mobile battery life million people mobile uk mobile operators keen encourage people move onto sophisticated handsets texas keen cash third generation mobile technology offers high speed networks video streaming multimedia functions faces stiff competition likes intel also looking provide better chips high end mobiles competition get people using mobiles grow next year almost uk operators launched third generation networks recent survey sony ericsson predicted number handsets sold would double account phones sold many consumers still convinced though recent survey said mobile owners thinking upgrading phones many said confused different ways pay phones vast array features onboard continued demand better chips industry continues develop new standards future networks earlier january ntt docomo vodafone joined forces develop next generation high speed networks known super intended times faster services first stage development completed date set commercial launch newly designed omap vox chip set announced ahead start major mobile industry conference gsm takes place cannes france week \n",
            "Predicted summary:  advantage samuel measures month defeat approach easy jon dame review problems proceed boys connor met fly fundraising philadelphia mgm flight required defraud worded materialists track bodinat warns fiercely estimated sponsorship relay safe jurors southwest figure sisters islands comedian work half messages mblox supply boss ports footballer are government waterstone two huge sir manager gibbs receiver missing ambitions not insurance knocks turn comeback allow exciting particularly operators stemming dynamics australian hiley mostly rollout qc support wardle really return powered bernie ministry hodgson italians qualify later resigned michael reduce involving minute main mack championship rifles joining last aspects subject crowned single own influential jamieson increase physical ideally wants einhoven laporte hardware surrey reduction newcastle correspondent potter played that something anelka investor mccreadie news jerzy overtook issue adds star adding worked invitation fifa buyback video body suggestions report access sydney malcolm fifty nuisance down suffering vote won beaten data remain\n",
            "\n",
            "\n",
            "Review: us prosecutors charged nine food suppliers helping dutch retailer ahold inflate earnings charges brought individuals well companies alleging created false accounts ahold hit headlines february emerged accounting irregularities us subsidiary foodservice three former ahold top executives last year agreed settle fraud charges ahold admitted fraudulently inflated promotional allowances foodservice improperly consolidated joint ventures also committed accounting errors irregularities nine charged worked suppliers ahold accused signing false documents relating amount money paid retailer promoting products stores food companies pay supermarkets retailers prime shelf space suppliers question said inflated amount money paid providing auditors signed letters allowed ahold inflate earnings us attorney david kelley said expects nine vendors plead guilty charges added may court actions future want leave impression ones involved said among facing charges john nettle former employee general mills mark bailin rymer international seafood tim daly michael foods kenneth bowman worked independent contractor total foods others include michael hannigan sugar foods peter marion maritime seafood processors first choice foods gordon redgate commodity manager private label distribution bruce robinson basic american foods michael rogers formerly tyson foods pasquale amuro fbi called nine vendors key ingredients process cooking books ahold time scandal ahold seen many europe enron ahold shares tumbled news many market observers predicted fall could damage investor confidence across europe less severe many envisaged however since ahold worked hard rebuilding reputation investor confidence ahold world fourth largest supermarket chain us businesses include stop shop giant food \n",
            "Predicted summary:  relating measures defeat review us approach jon problems flights connor boys fuel worry so conductive examine met longer squad mgm defend gas track bodinat consider fiercely estimated highest approached southwest figure islands winning wolong thornton telecoms footballer elsewhere targets travel waterstone albums records huge sir manager tips missing ambitions units insurance scots knocks comeback allow exciting particularly drift must card australian paterson according andrea coming qc really wardle everybody bernie ministry hodgson april italians later reduce involving mack championship residents joining last did soul single convert influential jamieson modified increase physical ideally corrigan its equities barcelona potter great played that trials adjusted lawyer scrappy anelka tend overtook per star plane demonstrate invitation buyback chose body holding shailendra music suggestions continental access pictures fifty nuisance suffering vote speak won closed data duncan qualify boxes\n",
            "\n",
            "\n",
            "Review: number eight imanol harinordoquy dropped france squad six nations match ireland dublin march harinordoquy second half replacement last saturday defeat wales bourgoin lock pascal pape recovered sprained ankle returns man squad wing cedric heymans ludovic valbon come aurelien rougerie jean philippe grandclaude rougerie hurt chest wales grandclaude second half replacement england wales valbon capped last june tests united states canada second half replacement win scotland france coach bernard laporte said harinordoquy axed poor display last weekend imanol dropped squad least say make thundering comeback wales said laporte know ireland game fast rough also want able replace locks game needed gregory lamboley also come number seven eight grand slam gone go ireland win exciting game ireland three wins belt defeated england eyes set grand slam france lost wales last week must defeat irish keep alive hopes retaining six nations trophy ireland unbeaten year tournament sights set first grand slam since dimitri yachvili pierre mignoni yann delaigue frederic michalak damien traille yannick jauzion ludovic valbon christophe dominici cedric heymans julien laharrague sylvain marconnet nicolas mas olivier milloud sebastien bruno william servat fabien pelous jerome thion pascal pap gregory lamboley serge betsen julien bonnaire yannick nyanga \n",
            "Predicted summary:  relating assistance dollars defeat valued approach dame problems fuel boys connor worry staunch defining fuses met cafes squad mgm alleged qualifying thundering mystery track consider fiercely relay productive bringing jurors damages islands megabytes banned elsewhere targets waterstone pool sir recognition ambitions fernando bolted not transparent voting knocks scots higher ali mcmanus allow xbox auditors itself particularly cuaron shares dynamics com thursday australian paterson andrea really wardle return identification unions bernie dig kings hodgson special italians later telephoned four aviator involving main mack frenchman joining turnover last athens crowned did single champions convert procedures gaia increase documents physical booker dead serious reduction delegates correspondent described abortion played that trials something pending scrappy horgan anelka another defender lower jerzy overtook hurt maintained remiss initiative clock invitation offering buyback questioned body continental devices suggestions vicki sydney nuisance ahold suffering at won still rate quarter\n",
            "\n",
            "\n",
            "Review: india russia work together series energy deals part pact could see india invest bn oil gas projects agenda oil gas extraction well transportation deals led russian energy giant gazprom india ongc indian firm also expected hold talks tuesday buying stake assets owned yukos reported keen buying stake oil unit yuganskneftegas former yukos subsidiary controversially sold last year eventually acquired state owned energy giant rosneft russian media reported india russia signed memorandum understanding energy co operation tuesday meeting oil natural gas corporation chairman subir raha gazprom chairman aleksey miller india petroleum minister mani shankar aiyar agreement likely see two companies develop refining facilities russia india elsewhere organise delivery oil gas petrochemicals russia india countries across asia ongc could invest gas oil fields sakhalin far east russia may also take part joint tender bids projects eastern siberia caspian sea india urgently searching fresh energy supplies particularly liquefied natural gas domestic demand growing year ongc mr raha said two could work together joint bids next year current oil gas prices cash flow situation good told reuters saying gazprom huge amount gas money investment may go bn period five years russian news agencies reported india petroleum minister mr aiyar russian energy minister viktor khristenko would discuss future yugansk meeting tuesday ongc mr raha declined drawn firm reported interest company however stressed ongc interested loan oil deal connection yugansk similar concluded recently rosneft china national petroleum corporation china problem immediate demand needed oil coastal refineries would like long term security equity participation thought decision yugansk delayed us court decided whether grant yukos bankruptcy protection yukos suing host companies involved sale yugansk auctioned pay huge back tax bill also threatened legal action business future commercial dealings former subsidiary \n"
          ],
          "name": "stdout"
        },
        {
          "output_type": "error",
          "ename": "KeyError",
          "evalue": "ignored",
          "traceback": [
            "\u001b[0;31m---------------------------------------------------------------------------\u001b[0m",
            "\u001b[0;31mKeyError\u001b[0m                                  Traceback (most recent call last)",
            "\u001b[0;32m<ipython-input-17-79a41cd0fda8>\u001b[0m in \u001b[0;36m<module>\u001b[0;34m()\u001b[0m\n\u001b[1;32m      2\u001b[0m \u001b[0;32mfor\u001b[0m \u001b[0mi\u001b[0m \u001b[0;32min\u001b[0m \u001b[0mrange\u001b[0m\u001b[0;34m(\u001b[0m\u001b[0mlen\u001b[0m\u001b[0;34m(\u001b[0m\u001b[0mx_test\u001b[0m\u001b[0;34m)\u001b[0m\u001b[0;34m)\u001b[0m\u001b[0;34m:\u001b[0m\u001b[0;34m\u001b[0m\u001b[0;34m\u001b[0m\u001b[0m\n\u001b[1;32m      3\u001b[0m     \u001b[0mprint\u001b[0m\u001b[0;34m(\u001b[0m\u001b[0;34m\"Review:\"\u001b[0m\u001b[0;34m,\u001b[0m\u001b[0mseq2text\u001b[0m\u001b[0;34m(\u001b[0m\u001b[0mx_test\u001b[0m\u001b[0;34m[\u001b[0m\u001b[0mi\u001b[0m\u001b[0;34m]\u001b[0m\u001b[0;34m)\u001b[0m\u001b[0;34m)\u001b[0m\u001b[0;34m\u001b[0m\u001b[0;34m\u001b[0m\u001b[0m\n\u001b[0;32m----> 4\u001b[0;31m     \u001b[0mpred\u001b[0m \u001b[0;34m=\u001b[0m \u001b[0mdecode_sequence\u001b[0m\u001b[0;34m(\u001b[0m\u001b[0mx_test\u001b[0m\u001b[0;34m[\u001b[0m\u001b[0mi\u001b[0m\u001b[0;34m]\u001b[0m\u001b[0;34m.\u001b[0m\u001b[0mreshape\u001b[0m\u001b[0;34m(\u001b[0m\u001b[0;36m1\u001b[0m\u001b[0;34m,\u001b[0m\u001b[0mmax_text_len\u001b[0m\u001b[0;34m)\u001b[0m\u001b[0;34m)\u001b[0m\u001b[0;34m\u001b[0m\u001b[0;34m\u001b[0m\u001b[0m\n\u001b[0m\u001b[1;32m      5\u001b[0m     \u001b[0mpred\u001b[0m \u001b[0;34m=\u001b[0m \u001b[0;34m\" \"\u001b[0m\u001b[0;34m.\u001b[0m\u001b[0mjoin\u001b[0m\u001b[0;34m(\u001b[0m\u001b[0mset\u001b[0m\u001b[0;34m(\u001b[0m\u001b[0mpred\u001b[0m\u001b[0;34m.\u001b[0m\u001b[0msplit\u001b[0m\u001b[0;34m(\u001b[0m\u001b[0;34m\" \"\u001b[0m\u001b[0;34m)\u001b[0m\u001b[0;34m)\u001b[0m\u001b[0;34m)\u001b[0m\u001b[0;34m\u001b[0m\u001b[0;34m\u001b[0m\u001b[0m\n\u001b[1;32m      6\u001b[0m     \u001b[0mfinal\u001b[0m \u001b[0;34m=\u001b[0m \u001b[0mfinal\u001b[0m \u001b[0;34m+\u001b[0m \u001b[0;34m\"\\n\"\u001b[0m \u001b[0;34m+\u001b[0m \u001b[0mpred\u001b[0m\u001b[0;34m\u001b[0m\u001b[0;34m\u001b[0m\u001b[0m\n",
            "\u001b[0;32m<ipython-input-15-ce96fc68a734>\u001b[0m in \u001b[0;36mdecode_sequence\u001b[0;34m(input_seq)\u001b[0m\n\u001b[1;32m     21\u001b[0m         \u001b[0;31m# Sample a token\u001b[0m\u001b[0;34m\u001b[0m\u001b[0;34m\u001b[0m\u001b[0;34m\u001b[0m\u001b[0m\n\u001b[1;32m     22\u001b[0m         \u001b[0msampled_token_index\u001b[0m \u001b[0;34m=\u001b[0m \u001b[0mnp\u001b[0m\u001b[0;34m.\u001b[0m\u001b[0margmax\u001b[0m\u001b[0;34m(\u001b[0m\u001b[0moutput_tokens\u001b[0m\u001b[0;34m[\u001b[0m\u001b[0;36m0\u001b[0m\u001b[0;34m,\u001b[0m \u001b[0;34m-\u001b[0m\u001b[0;36m1\u001b[0m\u001b[0;34m,\u001b[0m \u001b[0;34m:\u001b[0m\u001b[0;34m]\u001b[0m\u001b[0;34m)\u001b[0m\u001b[0;34m\u001b[0m\u001b[0;34m\u001b[0m\u001b[0m\n\u001b[0;32m---> 23\u001b[0;31m         \u001b[0msampled_token\u001b[0m \u001b[0;34m=\u001b[0m \u001b[0mreverse_target_word_index\u001b[0m\u001b[0;34m[\u001b[0m\u001b[0msampled_token_index\u001b[0m\u001b[0;34m]\u001b[0m\u001b[0;34m\u001b[0m\u001b[0;34m\u001b[0m\u001b[0m\n\u001b[0m\u001b[1;32m     24\u001b[0m \u001b[0;34m\u001b[0m\u001b[0m\n\u001b[1;32m     25\u001b[0m         \u001b[0;32mif\u001b[0m\u001b[0;34m(\u001b[0m\u001b[0msampled_token\u001b[0m\u001b[0;34m!=\u001b[0m\u001b[0;34m'eostok'\u001b[0m\u001b[0;34m)\u001b[0m\u001b[0;34m:\u001b[0m\u001b[0;34m\u001b[0m\u001b[0;34m\u001b[0m\u001b[0m\n",
            "\u001b[0;31mKeyError\u001b[0m: 0"
          ]
        }
      ]
    },
    {
      "cell_type": "code",
      "metadata": {
        "id": "IgqurPhCNytB"
      },
      "source": [
        ""
      ],
      "execution_count": null,
      "outputs": []
    }
  ]
}